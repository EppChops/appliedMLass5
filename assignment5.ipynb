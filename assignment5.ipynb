{
  "nbformat": 4,
  "nbformat_minor": 0,
  "metadata": {
    "colab": {
      "provenance": []
    },
    "kernelspec": {
      "name": "python3",
      "display_name": "Python 3"
    },
    "language_info": {
      "name": "python"
    }
  },
  "cells": [
    {
      "cell_type": "markdown",
      "source": [
        "# Assignment 5\n",
        "\n",
        "Group: PA 5 31\n",
        "\n",
        "Members: Erik Berg & David Winroth"
      ],
      "metadata": {
        "id": "0pcJ2tStaoeH"
      }
    },
    {
      "cell_type": "markdown",
      "source": [
        "Connect to drive:"
      ],
      "metadata": {
        "id": "w3XW5ssZBv2_"
      }
    },
    {
      "cell_type": "code",
      "execution_count": null,
      "metadata": {
        "colab": {
          "base_uri": "https://localhost:8080/"
        },
        "id": "exZSBbxIBnM5",
        "outputId": "37c13082-e350-46f6-a011-6ab2c29fa86c"
      },
      "outputs": [
        {
          "output_type": "stream",
          "name": "stdout",
          "text": [
            "Drive already mounted at /content/drive; to attempt to forcibly remount, call drive.mount(\"/content/drive\", force_remount=True).\n",
            "/content/drive/My Drive/Applied ML/Assignment5\n"
          ]
        }
      ],
      "source": [
        "from google.colab import drive\n",
        "drive.mount('/content/drive')\n",
        "\n",
        "%cd /content/drive/My Drive/Applied ML/Assignment5"
      ]
    },
    {
      "cell_type": "markdown",
      "source": [
        "## Introduction\n",
        "\n"
      ],
      "metadata": {
        "id": "0nkwcXwATylg"
      }
    },
    {
      "cell_type": "code",
      "source": [
        "from tensorflow.keras import applications, datasets, layers, models, losses\n",
        "from tensorflow.keras.preprocessing.image import load_img, img_to_array, ImageDataGenerator\n",
        "from tensorflow.keras.applications.vgg16 import decode_predictions, preprocess_input\n",
        "from matplotlib import pyplot as plt\n",
        "import numpy as np\n",
        "\n",
        "data_gen = ImageDataGenerator(rescale=1.0/255)\n",
        "\n",
        "imgdir = 'a5_images' # or wherever you put them...\n",
        "img_size = 64\n",
        "batch_size = 32\n",
        "\n",
        "# Read images from directory\n",
        "train_generator = data_gen.flow_from_directory(\n",
        "        imgdir + '/train',\n",
        "        target_size=(img_size, img_size),\n",
        "        batch_size=batch_size,\n",
        "        class_mode='binary',\n",
        "        classes=['other', 'car'],\n",
        "        seed=12345,\n",
        "        shuffle=True)\n",
        "\n",
        "#Generate first batch of training data\n",
        "Xbatch, Ybatch = train_generator.next()\n",
        "\n",
        "print(\"annotation image #4:\", Ybatch[4])\n",
        "\n",
        "\n",
        "plt.imshow(Xbatch[4])\n",
        "plt.show()\n"
      ],
      "metadata": {
        "colab": {
          "base_uri": "https://localhost:8080/",
          "height": 303
        },
        "id": "Vxb6ZYx3T6KB",
        "outputId": "962df968-9e39-4fc5-ce98-1ec1c8ee34db"
      },
      "execution_count": null,
      "outputs": [
        {
          "output_type": "stream",
          "name": "stdout",
          "text": [
            "Found 1600 images belonging to 2 classes.\n",
            "annotation image #4: 1.0\n"
          ]
        },
        {
          "output_type": "display_data",
          "data": {
            "text/plain": [
              "<Figure size 432x288 with 1 Axes>"
            ],
            "image/png": "[encoded data removed]"
          },
          "metadata": {
            "needs_background": "light"
          }
        }
      ]
    },
    {
      "cell_type": "markdown",
      "source": [
        "## Part 1"
      ],
      "metadata": {
        "id": "-GGx0kk7C80B"
      }
    },
    {
      "cell_type": "code",
      "source": [
        "from tensorflow.keras import applications, datasets, layers, models, losses\n",
        "from tensorflow.keras.preprocessing.image import load_img, img_to_array, ImageDataGenerator\n",
        "from tensorflow.keras.applications.vgg16 import decode_predictions, preprocess_input\n",
        "from matplotlib import pyplot as plt\n",
        "import numpy as np\n",
        "\n",
        "data_gen = ImageDataGenerator(rescale=1.0/255)\n",
        "\n",
        "imgdir = 'a5_images' # or wherever you put them...\n",
        "img_size = 64\n",
        "batch_size = 32\n",
        "input_shape = (img_size, img_size, 3)\n",
        "num_classes = 1\n",
        "\n",
        "\n",
        "def make_convnet():\n",
        "  model = models.Sequential()\n",
        "  model.add(layers.Conv2D(32, kernel_size=(5, 5), strides=(1, 1),\n",
        "  activation='relu',\n",
        "  input_shape=input_shape))\n",
        "  model.add(layers.MaxPooling2D(pool_size=(2, 2), strides=(2, 2)))\n",
        "  model.add(layers.Conv2D(64, (5, 5), activation='relu'))\n",
        "  model.add(layers.MaxPooling2D(pool_size=(2, 2)))\n",
        "  model.add(layers.Flatten())\n",
        "  model.add(layers.Dense(1000, activation='relu'))\n",
        "  model.add(layers.Dense(num_classes, activation='sigmoid'))\n",
        "  \n",
        "  model.compile(optimizer='adam', \n",
        "                loss=losses.BinaryCrossentropy(from_logits=False, label_smoothing=0), \n",
        "                metrics=['accuracy'])\n",
        "  \n",
        "  print(model.summary())\n",
        "  return model\n",
        "\n",
        "\n",
        "# Read images from directory\n",
        "validation_generator = data_gen.flow_from_directory(\n",
        "        imgdir + '/validation',\n",
        "        target_size=(img_size, img_size),\n",
        "        batch_size=batch_size,\n",
        "        class_mode='binary',\n",
        "        classes=['other', 'car'],\n",
        "        seed=12345,\n",
        "        shuffle=True)\n",
        "\n",
        "\n",
        "cnn = make_convnet()\n",
        "history = cnn.fit(train_generator, epochs=10, validation_data=validation_generator)\n",
        "cnn.save_weights('weights')\n",
        "print(\"Plain accuracy: \", history.history['val_accuracy'][len(history.history['val_accuracy'])-1])\n",
        "\n",
        "\n",
        "fig, (ax1, ax2) = plt.subplots(2, 1)\n",
        "fig.tight_layout(pad=3.0)\n",
        "ax1.plot(history.history['loss'])\n",
        "ax1.plot(history.history['val_loss'])\n",
        "ax1.set_title('model loss')\n",
        "ax1.set_ylabel('loss')\n",
        "ax1.set_xlabel('epoch')\n",
        "ax1.legend(['train', 'val'], loc='upper left')\n",
        "\n",
        "ax2.plot(history.history['accuracy'])\n",
        "ax2.plot(history.history['val_accuracy'])\n",
        "ax2.set_title('model accuracy')\n",
        "ax2.set_xlabel('epoch')\n",
        "ax2.set_ylabel('accuracy')\n",
        "ax2.legend(['train', 'val'], loc=\"upper left\")\n",
        "plt.show()"
      ],
      "metadata": {
        "colab": {
          "base_uri": "https://localhost:8080/",
          "height": 1000
        },
        "id": "dVdpX7mRByyF",
        "outputId": "5a95cb62-4e44-431c-95ce-1cebe07b17f6"
      },
      "execution_count": null,
      "outputs": [
        {
          "output_type": "stream",
          "name": "stdout",
          "text": [
            "Found 576 images belonging to 2 classes.\n",
            "Model: \"sequential_6\"\n",
            "_________________________________________________________________\n",
            " Layer (type)                Output Shape              Param #   \n",
            "=================================================================\n",
            " conv2d_10 (Conv2D)          (None, 60, 60, 32)        2432      \n",
            "                                                                 \n",
            " max_pooling2d_10 (MaxPoolin  (None, 30, 30, 32)       0         \n",
            " g2D)                                                            \n",
            "                                                                 \n",
            " conv2d_11 (Conv2D)          (None, 26, 26, 64)        51264     \n",
            "                                                                 \n",
            " max_pooling2d_11 (MaxPoolin  (None, 13, 13, 64)       0         \n",
            " g2D)                                                            \n",
            "                                                                 \n",
            " flatten_6 (Flatten)         (None, 10816)             0         \n",
            "                                                                 \n",
            " dense_12 (Dense)            (None, 1000)              10817000  \n",
            "                                                                 \n",
            " dense_13 (Dense)            (None, 1)                 1001      \n",
            "                                                                 \n",
            "=================================================================\n",
            "Total params: 10,871,697\n",
            "Trainable params: 10,871,697\n",
            "Non-trainable params: 0\n",
            "_________________________________________________________________\n",
            "None\n",
            "Epoch 1/10\n",
            "50/50 [==============================] - 44s 836ms/step - loss: 0.7369 - accuracy: 0.5844 - val_loss: 0.5916 - val_accuracy: 0.7135\n",
            "Epoch 2/10\n",
            "50/50 [==============================] - 37s 742ms/step - loss: 0.5591 - accuracy: 0.7375 - val_loss: 0.5679 - val_accuracy: 0.7101\n",
            "Epoch 3/10\n",
            "50/50 [==============================] - 38s 766ms/step - loss: 0.5874 - accuracy: 0.7188 - val_loss: 0.5852 - val_accuracy: 0.7049\n",
            "Epoch 4/10\n",
            "50/50 [==============================] - 34s 678ms/step - loss: 0.5318 - accuracy: 0.7500 - val_loss: 0.5714 - val_accuracy: 0.7031\n",
            "Epoch 5/10\n",
            "50/50 [==============================] - 35s 702ms/step - loss: 0.4563 - accuracy: 0.7981 - val_loss: 0.5435 - val_accuracy: 0.7726\n",
            "Epoch 6/10\n",
            "50/50 [==============================] - 34s 690ms/step - loss: 0.4266 - accuracy: 0.8037 - val_loss: 0.6022 - val_accuracy: 0.7656\n",
            "Epoch 7/10\n",
            "50/50 [==============================] - 32s 650ms/step - loss: 0.3600 - accuracy: 0.8512 - val_loss: 0.5485 - val_accuracy: 0.7656\n",
            "Epoch 8/10\n",
            "50/50 [==============================] - 34s 688ms/step - loss: 0.3189 - accuracy: 0.8631 - val_loss: 0.5829 - val_accuracy: 0.7517\n",
            "Epoch 9/10\n",
            "50/50 [==============================] - 35s 692ms/step - loss: 0.2686 - accuracy: 0.8856 - val_loss: 0.6330 - val_accuracy: 0.7483\n",
            "Epoch 10/10\n",
            "50/50 [==============================] - 44s 881ms/step - loss: 0.1823 - accuracy: 0.9262 - val_loss: 0.8111 - val_accuracy: 0.7535\n"
          ]
        },
        {
          "output_type": "display_data",
          "data": {
            "text/plain": [
              "<Figure size 432x288 with 2 Axes>"
            ],
            "image/png": "[encoded data removed]"
          },
          "metadata": {
            "needs_background": "light"
          }
        }
      ]
    },
    {
      "cell_type": "markdown",
      "source": [
        "**Accuracy of final epoch: (when run on local computer)** 0.7725694179534912"
      ],
      "metadata": {
        "id": "o51tjEvFdd56"
      }
    },
    {
      "cell_type": "markdown",
      "source": [
        "**Part 2, Augmented data model**"
      ],
      "metadata": {
        "id": "VutJ9Cv-Cyx6"
      }
    },
    {
      "cell_type": "code",
      "source": [
        "from tensorflow.keras import applications, datasets, layers, models, losses\n",
        "from tensorflow.keras.preprocessing.image import load_img, img_to_array, ImageDataGenerator\n",
        "from tensorflow.keras.applications.vgg16 import decode_predictions, preprocess_input\n",
        "from matplotlib import pyplot as plt\n",
        "import numpy as np\n",
        "\n",
        "augmented_gen = ImageDataGenerator(rescale=1.0/255, \n",
        "                                   rotation_range=10, \n",
        "                                   vertical_flip=True,\n",
        "                                   brightness_range=(0.8, 1.2),\n",
        "                                   shear_range=5\n",
        "                                   )\n",
        "\n",
        "\n",
        "# Read images from directory\n",
        "augmented_train_generator = augmented_gen.flow_from_directory(\n",
        "        imgdir + '/train',\n",
        "        target_size=(img_size, img_size),\n",
        "        batch_size=batch_size,\n",
        "        class_mode='binary',\n",
        "        classes=['other', 'car'],\n",
        "        seed=12345,\n",
        "        shuffle=True)\n",
        "\n",
        "\n",
        "\n",
        "cnn = make_convnet()\n",
        "history = cnn.fit(augmented_train_generator, epochs=10, validation_data=validation_generator)\n",
        "cnn.save_weights('augmented_weights')\n",
        "print(\"Augmented accuracy: \", history.history['val_accuracy'][len(history.history['val_accuracy'])-1])\n",
        "\n",
        "\n",
        "fig, (ax1, ax2) = plt.subplots(2, 1)\n",
        "fig.tight_layout(pad=3.0)\n",
        "ax1.plot(history.history['loss'])\n",
        "ax1.plot(history.history['val_loss'])\n",
        "ax1.set_title('model loss')\n",
        "ax1.set_ylabel('loss')\n",
        "ax1.set_xlabel('epoch')\n",
        "ax1.legend(['train', 'val'], loc='upper left')\n",
        "\n",
        "ax2.plot(history.history['accuracy'])\n",
        "ax2.plot(history.history['val_accuracy'])\n",
        "ax2.set_title('model accuracy')\n",
        "ax2.set_xlabel('epoch')\n",
        "ax2.set_ylabel('accuracy')\n",
        "ax2.legend(['train', 'val'], loc=\"upper left\")\n",
        "plt.show()"
      ],
      "metadata": {
        "id": "3AG6XCZQC2eq",
        "colab": {
          "base_uri": "https://localhost:8080/",
          "height": 1000
        },
        "outputId": "da8c66da-93fd-47eb-c244-0251039cd64c"
      },
      "execution_count": null,
      "outputs": [
        {
          "output_type": "stream",
          "name": "stdout",
          "text": [
            "Found 1600 images belonging to 2 classes.\n",
            "Model: \"sequential_7\"\n",
            "_________________________________________________________________\n",
            " Layer (type)                Output Shape              Param #   \n",
            "=================================================================\n",
            " conv2d_12 (Conv2D)          (None, 60, 60, 32)        2432      \n",
            "                                                                 \n",
            " max_pooling2d_12 (MaxPoolin  (None, 30, 30, 32)       0         \n",
            " g2D)                                                            \n",
            "                                                                 \n",
            " conv2d_13 (Conv2D)          (None, 26, 26, 64)        51264     \n",
            "                                                                 \n",
            " max_pooling2d_13 (MaxPoolin  (None, 13, 13, 64)       0         \n",
            " g2D)                                                            \n",
            "                                                                 \n",
            " flatten_7 (Flatten)         (None, 10816)             0         \n",
            "                                                                 \n",
            " dense_14 (Dense)            (None, 1000)              10817000  \n",
            "                                                                 \n",
            " dense_15 (Dense)            (None, 1)                 1001      \n",
            "                                                                 \n",
            "=================================================================\n",
            "Total params: 10,871,697\n",
            "Trainable params: 10,871,697\n",
            "Non-trainable params: 0\n",
            "_________________________________________________________________\n",
            "None\n",
            "Epoch 1/10\n",
            "50/50 [==============================] - 43s 828ms/step - loss: 0.7305 - accuracy: 0.5312 - val_loss: 0.6872 - val_accuracy: 0.5764\n",
            "Epoch 2/10\n",
            "50/50 [==============================] - 37s 749ms/step - loss: 0.6784 - accuracy: 0.6019 - val_loss: 0.6510 - val_accuracy: 0.6389\n",
            "Epoch 3/10\n",
            "50/50 [==============================] - 36s 722ms/step - loss: 0.6502 - accuracy: 0.6338 - val_loss: 0.6230 - val_accuracy: 0.6510\n",
            "Epoch 4/10\n",
            "50/50 [==============================] - 34s 670ms/step - loss: 0.6241 - accuracy: 0.6581 - val_loss: 0.6211 - val_accuracy: 0.6510\n",
            "Epoch 5/10\n",
            "50/50 [==============================] - 35s 695ms/step - loss: 0.6246 - accuracy: 0.6538 - val_loss: 0.5956 - val_accuracy: 0.6892\n",
            "Epoch 6/10\n",
            "50/50 [==============================] - 34s 682ms/step - loss: 0.6162 - accuracy: 0.6825 - val_loss: 0.6145 - val_accuracy: 0.6493\n",
            "Epoch 7/10\n",
            "50/50 [==============================] - 42s 852ms/step - loss: 0.6067 - accuracy: 0.6756 - val_loss: 0.6058 - val_accuracy: 0.6788\n",
            "Epoch 8/10\n",
            "50/50 [==============================] - 34s 682ms/step - loss: 0.5928 - accuracy: 0.6825 - val_loss: 0.6083 - val_accuracy: 0.6649\n",
            "Epoch 9/10\n",
            "50/50 [==============================] - 35s 693ms/step - loss: 0.5767 - accuracy: 0.6988 - val_loss: 0.6891 - val_accuracy: 0.6632\n",
            "Epoch 10/10\n",
            "50/50 [==============================] - 35s 690ms/step - loss: 0.5702 - accuracy: 0.6925 - val_loss: 0.6107 - val_accuracy: 0.6736\n"
          ]
        },
        {
          "output_type": "display_data",
          "data": {
            "text/plain": [
              "<Figure size 432x288 with 2 Axes>"
            ],
            "image/png": "[encoded data removed]"
          },
          "metadata": {
            "needs_background": "light"
          }
        }
      ]
    },
    {
      "cell_type": "markdown",
      "source": [
        "**Accuracy of final epoch(When run on local computer):** 0.796875\n",
        "\n",
        "**Do you see an improvement on the validation set?**\n",
        "\n",
        "Yes we see an improvement. However it is quite small. \n",
        "\n",
        "**Plot the losses and accuracies. Do you see any change?**\n",
        "\n",
        "Yes, it seems that we don't have as much overfitting when augmenting the data as we have when we just let the classifier run on its own. This is because the images are changes which means that we have larger diversity in the training set and as such it takes a longer time for the classifier to memorize the training set. \n"
      ],
      "metadata": {
        "id": "EStAFBLnb7a6"
      }
    },
    {
      "cell_type": "markdown",
      "source": [
        "## Interlude"
      ],
      "metadata": {
        "id": "nkHAMElvWP1S"
      }
    },
    {
      "cell_type": "code",
      "source": [
        "from tensorflow.keras import applications\n",
        "from tensorflow.keras.preprocessing.image import load_img, img_to_array\n",
        "from tensorflow.keras.applications.vgg16 import decode_predictions, preprocess_input\n",
        "\n",
        "vggmodel = applications.VGG16(weights='imagenet', include_top=True)\n",
        "\n",
        "\n",
        "img = load_img(\"a5_images/train/car/0000.jpg\", target_size=(224,224))\n",
        "\n",
        "arr = img_to_array(img)\n",
        "\n",
        "preprocessed = preprocess_input(arr)\n",
        "\n",
        "preprocessed = preprocessed.reshape(1, 224,224, 3)\n",
        "\n",
        "pred = vggmodel.predict(preprocessed)\n",
        "\n",
        "print(decode_predictions(pred))"
      ],
      "metadata": {
        "id": "jmVH_HK_WRq8",
        "colab": {
          "base_uri": "https://localhost:8080/"
        },
        "outputId": "19ca376c-55e4-4676-d565-17ae33459a81"
      },
      "execution_count": null,
      "outputs": [
        {
          "output_type": "stream",
          "name": "stdout",
          "text": [
            "1/1 [==============================] - 1s 790ms/step\n",
            "[[('n03417042', 'garbage_truck', 0.15934157), ('n03345487', 'fire_engine', 0.11155716), ('n04252225', 'snowplow', 0.100917086), ('n06874185', 'traffic_light', 0.08726411), ('n03977966', 'police_van', 0.08684494)]]\n"
          ]
        }
      ]
    },
    {
      "cell_type": "markdown",
      "source": [
        "**Does the prediction make sense?**\n",
        "\n",
        "Yes and no. It correctly identifies that it is some kind of vehicle, but it doesn't identify that it actually is a car. "
      ],
      "metadata": {
        "id": "_rZROFyqWa0i"
      }
    },
    {
      "cell_type": "markdown",
      "source": [
        "## Part 3\n"
      ],
      "metadata": {
        "id": "mbL9GSEXVGI7"
      }
    },
    {
      "cell_type": "code",
      "source": [
        "from tensorflow.keras.applications.vgg16 import decode_predictions, preprocess_input\n",
        "from tensorflow.keras import applications, datasets, layers, models, losses\n",
        "\n",
        "feature_extractor = applications.VGG16(include_top=False, weights='imagenet',\n",
        "                                        input_shape=(img_size, img_size, 3))\n",
        "\n",
        "def create_vgg16_features(input_dir, out_file):\n",
        "\n",
        "    vgg_data_gen = ImageDataGenerator(preprocessing_function=preprocess_input)\n",
        "\n",
        "    train_generator = vgg_data_gen.flow_from_directory(\n",
        "            imgdir + input_dir,\n",
        "            target_size=(img_size, img_size),\n",
        "            batch_size=batch_size,\n",
        "            class_mode='binary',\n",
        "            classes=['other', 'car'],\n",
        "            seed=12345,\n",
        "            shuffle=False)\n",
        "\n",
        "    cnn_features = feature_extractor.predict(train_generator)\n",
        "\n",
        "    with open(out_file, 'wb') as f:\n",
        "        np.save(f, cnn_features)\n",
        "\n",
        "create_vgg16_features('/train', 'training_set')\n",
        "create_vgg16_features('/validation', 'validation_set')\n",
        "\n",
        "def get_labels(n):\n",
        "    return np.array([0]*(n//2) + [1]*(n//2))\n",
        "\n",
        "def make_vgg_classifier():\n",
        "  model = models.Sequential()\n",
        "  model.add(layers.Flatten())\n",
        "  model.add(layers.Dense(1000, activation='relu'))\n",
        "  model.add(layers.Dense(num_classes, activation='sigmoid'))\n",
        "  \n",
        "  model.compile(optimizer='adam', \n",
        "                loss=losses.BinaryCrossentropy(from_logits=False, label_smoothing=0), \n",
        "                metrics=['accuracy'])\n",
        "  \n",
        "  return model\n",
        "\n",
        "\n",
        "def train_on_cnn_features(train_set, val_set):\n",
        "        with open(train_set, 'rb') as f:\n",
        "                train_data = np.load(f)\n",
        "        with open(val_set, 'rb') as f:\n",
        "                val_data = np.load(f)\n",
        "\n",
        "        print(train_data.shape)\n",
        "        print(val_data.shape)\n",
        "        cnn = make_vgg_classifier()\n",
        "\n",
        "        history = cnn.fit(train_data, get_labels(len(train_data)), epochs = 10, \n",
        "                validation_data =(val_data, get_labels(len(val_data))))\n",
        "        return history\n",
        "\n",
        "       \n",
        "hist = train_on_cnn_features('training_set', 'validation_set')\n",
        "\n",
        "print(hist.history['val_accuracy'][len(hist.history['val_accuracy'])-1])"
      ],
      "metadata": {
        "id": "7uH_g-VJVKPO",
        "colab": {
          "base_uri": "https://localhost:8080/"
        },
        "outputId": "39754571-f894-434c-a8c0-9c160b194cd9"
      },
      "execution_count": null,
      "outputs": [
        {
          "output_type": "stream",
          "name": "stdout",
          "text": [
            "Found 1600 images belonging to 2 classes.\n",
            "50/50 [==============================] - 76s 2s/step\n",
            "Found 576 images belonging to 2 classes.\n",
            "18/18 [==============================] - 26s 1s/step\n",
            "(1600, 2, 2, 512)\n",
            "(576, 2, 2, 512)\n",
            "Epoch 1/10\n",
            "50/50 [==============================] - 4s 48ms/step - loss: 6.0521 - accuracy: 0.8537 - val_loss: 1.1338 - val_accuracy: 0.8802\n",
            "Epoch 2/10\n",
            "50/50 [==============================] - 2s 32ms/step - loss: 0.2245 - accuracy: 0.9644 - val_loss: 0.8351 - val_accuracy: 0.9010\n",
            "Epoch 3/10\n",
            "50/50 [==============================] - 1s 28ms/step - loss: 0.0134 - accuracy: 0.9956 - val_loss: 0.7981 - val_accuracy: 0.9080\n",
            "Epoch 4/10\n",
            "50/50 [==============================] - 1s 29ms/step - loss: 8.0676e-04 - accuracy: 1.0000 - val_loss: 0.7787 - val_accuracy: 0.9097\n",
            "Epoch 5/10\n",
            "50/50 [==============================] - 1s 28ms/step - loss: 2.9189e-04 - accuracy: 1.0000 - val_loss: 0.7812 - val_accuracy: 0.9097\n",
            "Epoch 6/10\n",
            "50/50 [==============================] - 1s 28ms/step - loss: 2.1785e-04 - accuracy: 1.0000 - val_loss: 0.7846 - val_accuracy: 0.9097\n",
            "Epoch 7/10\n",
            "50/50 [==============================] - 1s 29ms/step - loss: 1.7847e-04 - accuracy: 1.0000 - val_loss: 0.7877 - val_accuracy: 0.9097\n",
            "Epoch 8/10\n",
            "50/50 [==============================] - 1s 28ms/step - loss: 1.4984e-04 - accuracy: 1.0000 - val_loss: 0.7898 - val_accuracy: 0.9097\n",
            "Epoch 9/10\n",
            "50/50 [==============================] - 2s 39ms/step - loss: 1.2792e-04 - accuracy: 1.0000 - val_loss: 0.7922 - val_accuracy: 0.9097\n",
            "Epoch 10/10\n",
            "50/50 [==============================] - 2s 40ms/step - loss: 1.1176e-04 - accuracy: 1.0000 - val_loss: 0.7942 - val_accuracy: 0.9097\n",
            "0.9097222089767456\n"
          ]
        }
      ]
    },
    {
      "cell_type": "markdown",
      "source": [
        "**What is your accuracy this time?**\n",
        "\n",
        "Our accuracy was 90.97%\n",
        "\n",
        "This is a lot higher than before. This is because when we use the feature extractor it does a lot of the leg work before we run our own classifier on top. Since the feature extractor assigns some different features to each image, our own classifier is basically a linear classifier. Some features from the extractor are more important for the class \"car\" than others. For example one could suspect that features such as \"trafic light\", \"fire engine\" etc. would have a large weight for the \"car\" class. Since the classification task becomes linear, a higher accuracy is expected."
      ],
      "metadata": {
        "id": "FcMVt3vscJ50"
      }
    },
    {
      "cell_type": "markdown",
      "source": [
        "**Part 4**"
      ],
      "metadata": {
        "id": "2-rjqPZ_Fd0c"
      }
    },
    {
      "cell_type": "code",
      "source": [
        "from tensorflow.keras import applications, datasets, layers, models, losses\n",
        "from tensorflow.keras.preprocessing.image import load_img, img_to_array, ImageDataGenerator\n",
        "from tensorflow.keras.applications.vgg16 import decode_predictions, preprocess_input\n",
        "from matplotlib import pyplot as plt\n",
        "import numpy as np\n",
        "\n",
        "def kernel_image(weights, i, positive):\n",
        "    \n",
        "    # extract the convolutional kernel at position i\n",
        "    k = weights[:,:,:,i].copy()\n",
        "    if not positive:\n",
        "        k = -k\n",
        "    \n",
        "    # clip the values: if we're looking for positive\n",
        "    # values, just keep the positive part; vice versa\n",
        "    # for the negative values.\n",
        "    k *= k > 0\n",
        "\n",
        "    # rescale the colors, to make the images less dark\n",
        "    m = k.max()\n",
        "    if m > 1e-3:\n",
        "        k /= m \n",
        "\n",
        "    return k\n",
        "\n",
        " \n",
        "first_layer_weights = feature_extractor.get_weights()[0]\n",
        "print(first_layer_weights.shape)\n",
        "\n",
        "f, axarr = plt.subplots(2,2)\n",
        "f.tight_layout(pad=3.0)\n",
        "axarr[0,0].imshow(kernel_image(first_layer_weights, 0, True))\n",
        "axarr[0,0].set_title('Positive 0th filter')\n",
        "axarr[0,1].imshow(kernel_image(first_layer_weights, 0, False))\n",
        "axarr[0,1].set_title('Negative 0th filter')\n",
        "axarr[1,0].imshow(kernel_image(first_layer_weights, 60, True))\n",
        "axarr[1,0].set_title('Positive 60th filter')\n",
        "axarr[1,1].imshow(kernel_image(first_layer_weights, 60, False))\n",
        "axarr[1,1].set_title('Negative 60th filter')\n",
        "plt.show()"
      ],
      "metadata": {
        "id": "IJc5AcCFFZuf",
        "colab": {
          "base_uri": "https://localhost:8080/",
          "height": 288
        },
        "outputId": "86922baa-f7c5-4390-a1fc-7d03dda49dea"
      },
      "execution_count": 25,
      "outputs": [
        {
          "output_type": "stream",
          "name": "stdout",
          "text": [
            "(3, 3, 3, 64)\n"
          ]
        },
        {
          "output_type": "display_data",
          "data": {
            "text/plain": [
              "<Figure size 432x288 with 4 Axes>"
            ],
            "image/png": "[encoded data removed]"
          },
          "metadata": {
            "needs_background": "light"
          }
        }
      ]
    }
  ]
}